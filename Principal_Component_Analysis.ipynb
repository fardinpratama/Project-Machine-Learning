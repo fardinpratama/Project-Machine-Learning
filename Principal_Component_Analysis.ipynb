{
  "nbformat": 4,
  "nbformat_minor": 0,
  "metadata": {
    "colab": {
      "name": "Principal_Component_Analysis.ipynb",
      "provenance": [],
      "authorship_tag": "ABX9TyPmzWxRprPRHKLX3dGV0g7u",
      "include_colab_link": true
    },
    "kernelspec": {
      "name": "python3",
      "display_name": "Python 3"
    }
  },
  "cells": [
    {
      "cell_type": "markdown",
      "metadata": {
        "id": "view-in-github",
        "colab_type": "text"
      },
      "source": [
        "<a href=\"https://colab.research.google.com/github/fardinpratama/Project-Machine-Learning/blob/master/Principal_Component_Analysis.ipynb\" target=\"_parent\"><img src=\"https://colab.research.google.com/assets/colab-badge.svg\" alt=\"Open In Colab\"/></a>"
      ]
    },
    {
      "cell_type": "code",
      "metadata": {
        "id": "EIi3JmuKWuu2",
        "colab_type": "code",
        "colab": {}
      },
      "source": [
        "#import library \n",
        "from sklearn.decomposition import PCA\n",
        "from sklearn.model_selection import train_test_split\n",
        "from sklearn import datasets\n",
        "from sklearn.tree import DecisionTreeClassifier"
      ],
      "execution_count": 0,
      "outputs": []
    },
    {
      "cell_type": "code",
      "metadata": {
        "id": "APp4wjSZXOL9",
        "colab_type": "code",
        "colab": {}
      },
      "source": [
        "#data preparation\n",
        "iris = datasets.load_iris()\n",
        "atribut = iris.data\n",
        "label = iris.target "
      ],
      "execution_count": 0,
      "outputs": []
    },
    {
      "cell_type": "code",
      "metadata": {
        "id": "lpOOfy3LYnhG",
        "colab_type": "code",
        "colab": {}
      },
      "source": [
        "X_train, X_test, y_train, y_test = train_test_split(\n",
        "    atribut, label, test_size=0.2)"
      ],
      "execution_count": 0,
      "outputs": []
    },
    {
      "cell_type": "code",
      "metadata": {
        "id": "aPNrwJvSYvHr",
        "colab_type": "code",
        "colab": {}
      },
      "source": [
        "#latih model Decision Tree\n",
        "model_DT = DecisionTreeClassifier()\n",
        "model_train = model_DT.fit(X_train, y_train)\n",
        "model_test = model_DT.score(X_test, y_test)"
      ],
      "execution_count": 0,
      "outputs": []
    },
    {
      "cell_type": "code",
      "metadata": {
        "id": "t2BC22e5Zstv",
        "colab_type": "code",
        "colab": {
          "base_uri": "https://localhost:8080/",
          "height": 34
        },
        "outputId": "fea92d7c-bcaf-4d02-ea25-ea7e6fb71b97"
      },
      "source": [
        "model_test"
      ],
      "execution_count": 14,
      "outputs": [
        {
          "output_type": "execute_result",
          "data": {
            "text/plain": [
              "0.9333333333333333"
            ]
          },
          "metadata": {
            "tags": []
          },
          "execution_count": 14
        }
      ]
    },
    {
      "cell_type": "code",
      "metadata": {
        "id": "JkjFpvxkZ8fu",
        "colab_type": "code",
        "colab": {}
      },
      "source": [
        "#membuat PCA dengan 4 principal component\n",
        "pca = PCA(n_components=4)"
      ],
      "execution_count": 0,
      "outputs": []
    },
    {
      "cell_type": "code",
      "metadata": {
        "id": "vH54QEViaVyl",
        "colab_type": "code",
        "colab": {}
      },
      "source": [
        "#aplikasikan kedalam data\n",
        "pca_attributes = pca.fit_transform(X_train)"
      ],
      "execution_count": 0,
      "outputs": []
    },
    {
      "cell_type": "code",
      "metadata": {
        "id": "D5z00Z7Uafd9",
        "colab_type": "code",
        "colab": {
          "base_uri": "https://localhost:8080/",
          "height": 34
        },
        "outputId": "929e83ca-e6df-4b95-9b97-6f048397c171"
      },
      "source": [
        "# melihat variance dari setiap atribut\n",
        "pca.explained_variance_ratio_"
      ],
      "execution_count": 20,
      "outputs": [
        {
          "output_type": "execute_result",
          "data": {
            "text/plain": [
              "array([0.92289434, 0.05472945, 0.01716993, 0.00520627])"
            ]
          },
          "metadata": {
            "tags": []
          },
          "execution_count": 20
        }
      ]
    },
    {
      "cell_type": "markdown",
      "metadata": {
        "id": "CaQUoLMbbJSc",
        "colab_type": "text"
      },
      "source": [
        "mengambil 3 principal component terbaik karena total variance nya adalah 0.969 yang sudah cukup tinggi."
      ]
    },
    {
      "cell_type": "code",
      "metadata": {
        "id": "uu1ivonfatW3",
        "colab_type": "code",
        "colab": {}
      },
      "source": [
        "pca = PCA(n_components=3)\n",
        "X_train_pca = pca.fit_transform(X_train)\n",
        "X_test_pca = pca.fit_transform(X_test)"
      ],
      "execution_count": 0,
      "outputs": []
    },
    {
      "cell_type": "code",
      "metadata": {
        "id": "cNbz5WegbJ05",
        "colab_type": "code",
        "colab": {}
      },
      "source": [
        "model_DT_pca = model_DT.fit(X_train_pca, y_train)"
      ],
      "execution_count": 0,
      "outputs": []
    },
    {
      "cell_type": "code",
      "metadata": {
        "id": "KliqmJp4bqAK",
        "colab_type": "code",
        "colab": {
          "base_uri": "https://localhost:8080/",
          "height": 34
        },
        "outputId": "d4a709eb-2e14-4813-b9d7-ca90692f1c41"
      },
      "source": [
        "model_DT_pca.score(X_test_pca, y_test)"
      ],
      "execution_count": 30,
      "outputs": [
        {
          "output_type": "execute_result",
          "data": {
            "text/plain": [
              "0.9333333333333333"
            ]
          },
          "metadata": {
            "tags": []
          },
          "execution_count": 30
        }
      ]
    },
    {
      "cell_type": "markdown",
      "metadata": {
        "id": "VMbd-ASlckAm",
        "colab_type": "text"
      },
      "source": [
        "terlihat bahwa modelnya masih cukup baik meski hanya menggunakan 3 attribute"
      ]
    },
    {
      "cell_type": "code",
      "metadata": {
        "id": "wza5azxjcCoQ",
        "colab_type": "code",
        "colab": {}
      },
      "source": [
        ""
      ],
      "execution_count": 0,
      "outputs": []
    }
  ]
}